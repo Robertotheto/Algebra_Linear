{
  "nbformat": 4,
  "nbformat_minor": 0,
  "metadata": {
    "colab": {
      "provenance": [],
      "authorship_tag": "ABX9TyPDN2a/Z6jWgHL5ZloEmay5",
      "include_colab_link": true
    },
    "kernelspec": {
      "name": "python3",
      "display_name": "Python 3"
    },
    "language_info": {
      "name": "python"
    }
  },
  "cells": [
    {
      "cell_type": "markdown",
      "metadata": {
        "id": "view-in-github",
        "colab_type": "text"
      },
      "source": [
        "<a href=\"https://colab.research.google.com/github/Robertotheto/Algebra_Linear/blob/master/Algebra_Linear.ipynb\" target=\"_parent\"><img src=\"https://colab.research.google.com/assets/colab-badge.svg\" alt=\"Open In Colab\"/></a>"
      ]
    },
    {
      "cell_type": "markdown",
      "source": [
        "# **Lista de Exercicios**"
      ],
      "metadata": {
        "id": "QCCsyHZLtXHR"
      }
    },
    {
      "cell_type": "code",
      "execution_count": null,
      "metadata": {
        "id": "phbRPBDNoI_w"
      },
      "outputs": [],
      "source": [
        "import numpy as np"
      ]
    },
    {
      "cell_type": "markdown",
      "source": [
        "**Calcular a inversa da matriz:**"
      ],
      "metadata": {
        "id": "ux06wDzOtu59"
      }
    },
    {
      "cell_type": "markdown",
      "source": [
        "a)\n",
        "*   3 7\n",
        "*   2 5\n"
      ],
      "metadata": {
        "id": "nhmazaL6aKTJ"
      }
    },
    {
      "cell_type": "code",
      "source": [
        "matriz = np.array([\n",
        "    [3,7],\n",
        "    [2,5],\n",
        "    ])\n",
        "matriz_inversa = np.linalg.inv(matriz)\n",
        "print(matriz_inversa)"
      ],
      "metadata": {
        "colab": {
          "base_uri": "https://localhost:8080/"
        },
        "id": "tRSqWKFJab4l",
        "outputId": "fbe22be2-43c1-4164-9aab-079b782d35e7"
      },
      "execution_count": null,
      "outputs": [
        {
          "output_type": "stream",
          "name": "stdout",
          "text": [
            "[[ 5. -7.]\n",
            " [-2.  3.]]\n"
          ]
        }
      ]
    },
    {
      "cell_type": "markdown",
      "source": [
        "b)\n",
        "*   2 6\n",
        "*   4 8"
      ],
      "metadata": {
        "id": "3gOq7SS1aVQY"
      }
    },
    {
      "cell_type": "code",
      "source": [
        "matriz = np.array([\n",
        "    [2,6],\n",
        "    [4,8],\n",
        "    ])\n",
        "matriz_inversa = np.linalg.inv(matriz)\n",
        "print(matriz_inversa)"
      ],
      "metadata": {
        "colab": {
          "base_uri": "https://localhost:8080/"
        },
        "id": "7WbGJZGkcgMK",
        "outputId": "999ec786-23e6-4975-f529-2e9bff83e669"
      },
      "execution_count": null,
      "outputs": [
        {
          "output_type": "stream",
          "name": "stdout",
          "text": [
            "[[-1.    0.75]\n",
            " [ 0.5  -0.25]]\n"
          ]
        }
      ]
    },
    {
      "cell_type": "markdown",
      "source": [
        "c)\n",
        "*   3 11\n",
        "*   2 7\n"
      ],
      "metadata": {
        "id": "QS2Ybed8aguE"
      }
    },
    {
      "cell_type": "code",
      "source": [
        "matriz = np.array([\n",
        "    [3,11],\n",
        "    [2,7],\n",
        "    ])\n",
        "matriz_inversa = np.linalg.inv(matriz)\n",
        "print(matriz_inversa)"
      ],
      "metadata": {
        "colab": {
          "base_uri": "https://localhost:8080/"
        },
        "id": "iX_U2Ov5dlV5",
        "outputId": "6c88c010-490e-47e4-e67e-e3ae37d6d655"
      },
      "execution_count": null,
      "outputs": [
        {
          "output_type": "stream",
          "name": "stdout",
          "text": [
            "[[-7. 11.]\n",
            " [ 2. -3.]]\n"
          ]
        }
      ]
    },
    {
      "cell_type": "markdown",
      "source": [
        "d)\n",
        "*    1  2  0\n",
        "*    2  1  1\n",
        "*   -1  0  0"
      ],
      "metadata": {
        "id": "Rdbm4Pkiapbk"
      }
    },
    {
      "cell_type": "code",
      "source": [
        "matriz = np.array([\n",
        "    [1,2,0],\n",
        "    [2,1,1],\n",
        "    [-1,0,0]\n",
        "    ])\n",
        "matriz_inversa = np.linalg.inv(matriz)\n",
        "print(matriz_inversa)"
      ],
      "metadata": {
        "colab": {
          "base_uri": "https://localhost:8080/"
        },
        "id": "cvpfm2HteU2_",
        "outputId": "452cc3bf-d445-4215-e795-a8f0afef2799"
      },
      "execution_count": null,
      "outputs": [
        {
          "output_type": "stream",
          "name": "stdout",
          "text": [
            "[[ 0.   0.  -1. ]\n",
            " [ 0.5  0.   0.5]\n",
            " [-0.5  1.   1.5]]\n"
          ]
        }
      ]
    },
    {
      "cell_type": "markdown",
      "source": [
        "e)\n",
        "*    2  1  1\n",
        "*    4 -6  0\n",
        "*   -2  7  2\n"
      ],
      "metadata": {
        "id": "u6YZFu5_a6Cr"
      }
    },
    {
      "cell_type": "code",
      "source": [
        "matriz = np.array([\n",
        "    [2,1,1],\n",
        "    [4,-6,0],\n",
        "    [-2,7,2]\n",
        "    ])\n",
        "matriz_inversa = np.linalg.inv(matriz)\n",
        "print(matriz_inversa)"
      ],
      "metadata": {
        "colab": {
          "base_uri": "https://localhost:8080/"
        },
        "id": "bvkPNOD6lgiz",
        "outputId": "e1e78886-29ac-496f-80b7-f9780dc8c44a"
      },
      "execution_count": null,
      "outputs": [
        {
          "output_type": "stream",
          "name": "stdout",
          "text": [
            "[[ 0.75   -0.3125 -0.375 ]\n",
            " [ 0.5    -0.375  -0.25  ]\n",
            " [-1.      1.      1.    ]]\n"
          ]
        }
      ]
    },
    {
      "cell_type": "markdown",
      "source": [
        "f)\n",
        "*   1 1 -1\n",
        "*   2 1  1\n",
        "*   3 -1 1\n",
        "\n"
      ],
      "metadata": {
        "id": "Ie6uf1fWu_fj"
      }
    },
    {
      "cell_type": "code",
      "source": [
        "matriz = np.array([\n",
        "    [1,1,-1],\n",
        "    [2,1,1],\n",
        "    [3,-1,1]\n",
        "    ])\n",
        "matriz_inversa = np.linalg.inv(matriz)\n",
        "print(matriz_inversa)"
      ],
      "metadata": {
        "colab": {
          "base_uri": "https://localhost:8080/"
        },
        "id": "NmZrIjdIoQRZ",
        "outputId": "dd01a484-0236-4782-f221-6d30892cf9e6"
      },
      "execution_count": null,
      "outputs": [
        {
          "output_type": "stream",
          "name": "stdout",
          "text": [
            "[[ 0.25   0.     0.25 ]\n",
            " [ 0.125  0.5   -0.375]\n",
            " [-0.625  0.5   -0.125]]\n"
          ]
        }
      ]
    },
    {
      "cell_type": "markdown",
      "source": [
        "**Resolver os seguintes sistemas:**"
      ],
      "metadata": {
        "id": "P3Ys_KNxuFCV"
      }
    },
    {
      "cell_type": "markdown",
      "source": [
        "a)\n",
        "* 4x−y−3z=15\n",
        "* 3x−2y+5z=−7\n",
        "* 2x+3y+4z=7\n",
        "\n",
        "  \n",
        "  \n",
        "\n"
      ],
      "metadata": {
        "id": "sRsBkkUcuSEY"
      }
    },
    {
      "cell_type": "code",
      "source": [
        "A = np.array([[4, -1, -3],\n",
        "              [3, -2, 5],\n",
        "              [2, 3, 4]])\n",
        "B = np.array([[15],\n",
        "              [-7],\n",
        "              [7]])\n",
        "A_inv = np.linalg.inv(A)\n",
        "X = np.dot(A_inv, B)\n",
        "print(X)"
      ],
      "metadata": {
        "colab": {
          "base_uri": "https://localhost:8080/"
        },
        "id": "p9QJ9qRqs7kJ",
        "outputId": "351ea10c-16d5-45b6-a699-7419b1231e0a"
      },
      "execution_count": null,
      "outputs": [
        {
          "output_type": "stream",
          "name": "stdout",
          "text": [
            "[[ 3.]\n",
            " [ 3.]\n",
            " [-2.]]\n"
          ]
        }
      ]
    },
    {
      "cell_type": "markdown",
      "source": [
        "b)\n",
        "* 2x+3y−2z=2\n",
        "* 3x−5y+4z=5\n",
        "* x-2y-7z=-24"
      ],
      "metadata": {
        "id": "JN269MU3bUsu"
      }
    },
    {
      "cell_type": "code",
      "source": [
        "A = np.array([[2, 3, -2],\n",
        "              [3, -5, 4],\n",
        "              [1, -2, -7]])\n",
        "B = np.array([[2],\n",
        "              [5],\n",
        "              [-24]])\n",
        "A_inv = np.linalg.inv(A)\n",
        "X = np.dot(A_inv, B)\n",
        "print(X)"
      ],
      "metadata": {
        "colab": {
          "base_uri": "https://localhost:8080/"
        },
        "id": "BKehvF_yb19D",
        "outputId": "23d77480-8352-49ae-d951-37f84bfa4f0d"
      },
      "execution_count": null,
      "outputs": [
        {
          "output_type": "stream",
          "name": "stdout",
          "text": [
            "[[1.]\n",
            " [2.]\n",
            " [3.]]\n"
          ]
        }
      ]
    },
    {
      "cell_type": "markdown",
      "source": [
        "c)\n",
        "* 5x-3y−7z=-5\n",
        "* 4x−y-z=2\n",
        "* -2x+4y+8z=10"
      ],
      "metadata": {
        "id": "ahGkiG9ocHSx"
      }
    },
    {
      "cell_type": "code",
      "source": [
        "A = np.array([[5, -3, -7],\n",
        "              [4, -1, -1],\n",
        "              [-2, 4, 8]])\n",
        "B = np.array([[-5],\n",
        "              [2],\n",
        "              [10]])\n",
        "A_inv = np.linalg.inv(A)\n",
        "X = np.dot(A_inv, B)\n",
        "print(X)"
      ],
      "metadata": {
        "colab": {
          "base_uri": "https://localhost:8080/"
        },
        "id": "rH-IykSxcq0D",
        "outputId": "037e65ea-6c9d-45ee-aec5-bd9de7bb7074"
      },
      "execution_count": null,
      "outputs": [
        {
          "output_type": "stream",
          "name": "stdout",
          "text": [
            "[[1.]\n",
            " [1.]\n",
            " [1.]]\n"
          ]
        }
      ]
    },
    {
      "cell_type": "markdown",
      "source": [
        "d)\n",
        "* 6x+2y+4z=0\n",
        "* -9x−3y-6z=0"
      ],
      "metadata": {
        "id": "uiH_tQkQdMFU"
      }
    },
    {
      "cell_type": "code",
      "source": [
        "A = np.array([[6,2,4],\n",
        "              [-9,-3,-6]])\n",
        "B = np.array([[0],\n",
        "              [0]])\n",
        "A_inv = np.linalg.inv(A)\n",
        "X = np.dot(A_inv, B)\n",
        "print(X)"
      ],
      "metadata": {
        "id": "svCcB_k-diJU"
      },
      "execution_count": null,
      "outputs": []
    },
    {
      "cell_type": "markdown",
      "source": [
        "Resposta x=y=z = 0"
      ],
      "metadata": {
        "id": "o5jbN8-ae4hX"
      }
    },
    {
      "cell_type": "markdown",
      "source": [
        "e)\n",
        "* x+4y+6z=11\n",
        "* 2x+3y+4z=9\n",
        "* 3x+2y+2z=7"
      ],
      "metadata": {
        "id": "MWTeXqTlfIzl"
      }
    },
    {
      "cell_type": "code",
      "source": [
        "A = np.array([[1,4,6],\n",
        "              [2,3,4],\n",
        "              [3,2,2]])\n",
        "B = np.array([[11],\n",
        "              [9],\n",
        "              [7]])\n",
        "A_inv = np.linalg.inv(A)\n",
        "X = np.dot(A_inv, B)\n",
        "print(X)"
      ],
      "metadata": {
        "id": "aLYsa23Efovx"
      },
      "execution_count": null,
      "outputs": []
    },
    {
      "cell_type": "markdown",
      "source": [
        "Resposta não há solução para matriz inversa"
      ],
      "metadata": {
        "id": "9rc9GwrTg3eK"
      }
    },
    {
      "cell_type": "markdown",
      "source": [
        "f)\n",
        "* 2x+3y+4z=53\n",
        "* 3x+5y-4z=2\n",
        "* 4x+7y-2z=31"
      ],
      "metadata": {
        "id": "VDfHmrhhhCU5"
      }
    },
    {
      "cell_type": "code",
      "source": [
        "A = np.array([[2,3,4],\n",
        "              [3,5,-4],\n",
        "              [4,7,-2]])\n",
        "B = np.array([[53],\n",
        "              [2],\n",
        "              [31]])\n",
        "A_inv = np.linalg.inv(A)\n",
        "X = np.dot(A_inv, B)\n",
        "print(X)"
      ],
      "metadata": {
        "colab": {
          "base_uri": "https://localhost:8080/"
        },
        "id": "NPStQXH6hbRb",
        "outputId": "fb059943-0d92-4329-ad92-b9b69ae1afab"
      },
      "execution_count": null,
      "outputs": [
        {
          "output_type": "stream",
          "name": "stdout",
          "text": [
            "[[3.]\n",
            " [5.]\n",
            " [8.]]\n"
          ]
        }
      ]
    },
    {
      "cell_type": "markdown",
      "source": [
        "**Resolvendo o sistema pela regra de cramer**"
      ],
      "metadata": {
        "id": "vIQ37c97yuLg"
      }
    },
    {
      "cell_type": "code",
      "source": [
        "a11 = 8\n",
        "a12 = 5\n",
        "b11 = 7\n",
        "b12 = -5\n",
        "a = 63\n",
        "b = 27\n",
        "\n",
        "det_A = (a11 * b12) - (b11 * a12)\n",
        "det_X = (a * b12) - (a12 * b)\n",
        "det_Y = (a11 * b) - (a * b11)\n",
        "x = det_X/det_A\n",
        "y = det_Y/det_A\n",
        "print(\"Solução:\")\n",
        "print(\"x =\", x)\n",
        "print(\"y =\", y)"
      ],
      "metadata": {
        "colab": {
          "base_uri": "https://localhost:8080/"
        },
        "id": "2fi-4RBF1aHW",
        "outputId": "e0e9c09d-1e48-4824-df6a-83e121fb3ca4"
      },
      "execution_count": null,
      "outputs": [
        {
          "output_type": "stream",
          "name": "stdout",
          "text": [
            "Solução:\n",
            "x = 6.0\n",
            "y = 3.0\n"
          ]
        }
      ]
    },
    {
      "cell_type": "code",
      "source": [
        "a11 = 9\n",
        "a12 = -2\n",
        "b11 = 7\n",
        "b12 = 6\n",
        "a = 31\n",
        "b = 77\n",
        "\n",
        "det_A = (a11 * b12) - (b11 * a12)\n",
        "det_X = (a * b12) - (a12 * b)\n",
        "det_Y = (a11 * b) - (a * b11)\n",
        "x = det_X/det_A\n",
        "y = det_Y/det_A\n",
        "print(\"Solução:\")\n",
        "print(\"x =\", x)\n",
        "print(\"y =\", y)"
      ],
      "metadata": {
        "colab": {
          "base_uri": "https://localhost:8080/"
        },
        "id": "svDNtl3j6xbN",
        "outputId": "f0617d9d-0329-4ae6-9650-bfe6d91d4499"
      },
      "execution_count": null,
      "outputs": [
        {
          "output_type": "stream",
          "name": "stdout",
          "text": [
            "Solução:\n",
            "x = 5.0\n",
            "y = 7.0\n"
          ]
        }
      ]
    },
    {
      "cell_type": "code",
      "source": [
        "a11 = 21\n",
        "a12 = -11\n",
        "b11 = 7\n",
        "b12 = 5\n",
        "a = 52\n",
        "b = 26\n",
        "\n",
        "det_A = (a11 * b12) - (b11 * a12)\n",
        "det_X = (a * b12) - (a12 * b)\n",
        "det_Y = (a11 * b) - (a * b11)\n",
        "x = det_X/det_A\n",
        "y = det_Y/det_A\n",
        "print(\"Solução:\")\n",
        "print(\"x =\", x)\n",
        "print(\"y =\", y)"
      ],
      "metadata": {
        "colab": {
          "base_uri": "https://localhost:8080/"
        },
        "id": "SnEzHl5l9NG0",
        "outputId": "6ada949c-62b5-458c-e248-42f758167eec"
      },
      "execution_count": null,
      "outputs": [
        {
          "output_type": "stream",
          "name": "stdout",
          "text": [
            "Solução:\n",
            "x = 3.0\n",
            "y = 1.0\n"
          ]
        }
      ]
    }
  ]
}